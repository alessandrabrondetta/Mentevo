{
 "cells": [
  {
   "cell_type": "code",
   "execution_count": 1,
   "metadata": {},
   "outputs": [],
   "source": [
    "%load_ext autoreload\n",
    "%autoreload 2\n",
    "\n",
    "import mentevo\n",
    "import numpy as np"
   ]
  },
  {
   "cell_type": "code",
   "execution_count": 8,
   "metadata": {},
   "outputs": [],
   "source": [
    "from mentevo.experiment import Experiment\n",
    "from mentevo.metrics import compute_performance"
   ]
  },
  {
   "cell_type": "code",
   "execution_count": 9,
   "metadata": {},
   "outputs": [],
   "source": [
    "# crete and aexperiment\n",
    "# solve the experiment\n",
    "# print the dimensions of curves\n",
    "\n",
    "experiment = Experiment(number_of_agents=2,\n",
    "                 number_of_tasks=2,\n",
    "                 communication_graph=None,\n",
    "                 task_graph=None,\n",
    "                 alpha=1.0,\n",
    "                 beta=1.0,\n",
    "                 gamma=1.0,\n",
    "                 delta=1.0,\n",
    "                 d=1.0,\n",
    "                 tau=1.0,\n",
    "                 g=None,\n",
    "                 bias_value=1.0,\n",
    "                 initial_state=None,\n",
    "                 total_time=100,\n",
    "                 nb_switches=3,\n",
    "                 nb_informed=None,\n",
    ")"
   ]
  },
  {
   "cell_type": "code",
   "execution_count": 4,
   "metadata": {},
   "outputs": [],
   "source": [
    "curves = experiment.solve()\n",
    "curves.shape"
   ]
  },
  {
   "cell_type": "code",
   "execution_count": 5,
   "metadata": {},
   "outputs": [],
   "source": [
    "curve = np.array([\n",
    "    np.ones(100),\n",
    "    np.zeros(100),\n",
    "    np.ones(100),\n",
    "    np.zeros(100),\n",
    "])\n",
    "curve.shape"
   ]
  },
  {
   "cell_type": "code",
   "execution_count": 6,
   "metadata": {},
   "outputs": [],
   "source": [
    "experiment.cue_vector.shape"
   ]
  },
  {
   "cell_type": "code",
   "execution_count": null,
   "metadata": {},
   "outputs": [],
   "source": []
  },
  {
   "cell_type": "code",
   "execution_count": 12,
   "metadata": {},
   "outputs": [],
   "source": [
    "def debug_performance(experiment, curves):\n",
    "    \"\"\"\n",
    "    todo: add docstring\n",
    "    \"\"\"\n",
    "    assert isinstance(curves, np.ndarray)\n",
    "\n",
    "    na = experiment.number_of_agents\n",
    "    no = experiment.number_of_tasks\n",
    "\n",
    "    assert no == 2, 'this function works only for number_of_tasks = 2'\n",
    "\n",
    "    # use the cue vector to measure the performance\n",
    "    labels = np.sign(experiment.cue_vector)\n",
    "    assert labels.shape == (experiment.total_time, 2 * na)\n",
    "    assert curves.shape == (2 * experiment.number_of_agents, experiment.total_time)\n",
    "\n",
    "    # compute the score using labels and curves\n",
    "    score = labels * curves.T\n",
    "    \n",
    "    return score"
   ]
  },
  {
   "cell_type": "code",
   "execution_count": 13,
   "metadata": {},
   "outputs": [],
   "source": [
    "import matplotlib.pyplot as plt\n",
    "\n",
    "plt.plot(curves[0] - curves[1], c='b')\n",
    "plt.plot(experiment.cue_vector[:, 0], c='r')\n",
    "print(compute_performance(experiment, curves))\n",
    "\n",
    "score_detail = debug_performance(experiment, curves)\n",
    "score_detail.shape # (100, 4)"
   ]
  },
  {
   "cell_type": "code",
   "execution_count": 27,
   "metadata": {},
   "outputs": [],
   "source": [
    "plt.plot(curves[0], label='agent 1 task 1')\n",
    "cmap = plt.get_cmap('tab10')\n",
    "colors = cmap(np.sign(score_detail[:,0]))\n",
    "plt.fill_between(range(100), np.zeros(100), score_detail[:, 0], alpha=0.1, color=colors, label='score agent 1 task 1')"
   ]
  },
  {
   "cell_type": "code",
   "execution_count": 25,
   "metadata": {},
   "outputs": [],
   "source": [
    "colors"
   ]
  },
  {
   "cell_type": "code",
   "execution_count": 16,
   "metadata": {},
   "outputs": [],
   "source": [
    "plt.plot(curves[0], label='agent 1 task 1')\n",
    "plt.plot(curves[1], label='agent 1 task 2')"
   ]
  },
  {
   "cell_type": "code",
   "execution_count": 15,
   "metadata": {},
   "outputs": [],
   "source": [
    "plt.plot(score_detail[:, 0], c='black')\n",
    "#plt.plot(score_detail[:, 1], c='green')"
   ]
  }
 ],
 "metadata": {
  "kernelspec": {
   "display_name": "Python 3",
   "language": "python",
   "name": "python3"
  },
  "language_info": {
   "codemirror_mode": {
    "name": "ipython",
    "version": 3
   },
   "file_extension": ".py",
   "mimetype": "text/x-python",
   "name": "python",
   "nbconvert_exporter": "python",
   "pygments_lexer": "ipython3",
   "version": "3.11.5"
  }
 },
 "nbformat": 4,
 "nbformat_minor": 2
}
