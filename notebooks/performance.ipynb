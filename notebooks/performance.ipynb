{
 "cells": [
  {
   "cell_type": "code",
   "execution_count": 1,
   "metadata": {},
   "outputs": [],
   "source": [
    "%load_ext autoreload\n",
    "%autoreload 2\n",
    "\n",
    "import mentevo\n",
    "import numpy as np\n",
    "\n",
    "from mentevo.experiment import Experiment\n",
    "from mentevo.metrics import compute_performance"
   ]
  },
  {
   "cell_type": "code",
   "execution_count": 2,
   "metadata": {},
   "outputs": [],
   "source": [
    "experiment = Experiment(number_of_agents=2,\n",
    "                        number_of_tasks=2,\n",
    "                        communication_graph=None,\n",
    "                        task_graph=None,\n",
    "                        alpha=1.0,\n",
    "                        beta=1.0,\n",
    "                        gamma=1.0,\n",
    "                        delta=1.0,\n",
    "                        d=1.0,\n",
    "                        tau=1.0,\n",
    "                        g=None,\n",
    "                        bias_value=1.0,\n",
    "                        initial_state=None,\n",
    "                        total_time=100,\n",
    "                        nb_switches=3,\n",
    "                        nb_informed=None)\n",
    "\n",
    "curves = experiment.solve()\n",
    "curves.shape"
   ]
  },
  {
   "cell_type": "code",
   "execution_count": 5,
   "metadata": {},
   "outputs": [],
   "source": [
    "import matplotlib.pyplot as plt\n",
    "\n",
    "plt.plot(curves[0] - curves[1], c='b')\n",
    "plt.plot(experiment.cue_vector[:, 0], c='r')\n",
    "score, score_detail = compute_performance(experiment, curves, detailed=True)"
   ]
  },
  {
   "cell_type": "code",
   "execution_count": 8,
   "metadata": {},
   "outputs": [],
   "source": [
    "plt.plot(curves[0], label='agent 1 task 1')\n",
    "plt.fill_between(range(100), np.zeros(100), score_detail[:, 0], alpha=0.1, label='score agent 1 task 1')"
   ]
  },
  {
   "cell_type": "code",
   "execution_count": 9,
   "metadata": {},
   "outputs": [],
   "source": [
    "plt.plot(curves[0], label='agent 1 task 1')\n",
    "plt.plot(curves[1], label='agent 1 task 2')"
   ]
  }
 ],
 "metadata": {
  "kernelspec": {
   "display_name": "Python 3",
   "language": "python",
   "name": "python3"
  },
  "language_info": {
   "codemirror_mode": {
    "name": "ipython",
    "version": 3
   },
   "file_extension": ".py",
   "mimetype": "text/x-python",
   "name": "python",
   "nbconvert_exporter": "python",
   "pygments_lexer": "ipython3",
   "version": "3.11.5"
  }
 },
 "nbformat": 4,
 "nbformat_minor": 2
}
